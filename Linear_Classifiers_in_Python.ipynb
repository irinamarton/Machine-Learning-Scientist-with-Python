{
  "nbformat": 4,
  "nbformat_minor": 0,
  "metadata": {
    "colab": {
      "provenance": []
    },
    "kernelspec": {
      "name": "python3",
      "display_name": "Python 3"
    },
    "language_info": {
      "name": "python"
    }
  },
  "cells": [
    {
      "cell_type": "markdown",
      "source": [
        "# 1. Applying logistic regression and SVM"
      ],
      "metadata": {
        "id": "CDoc59jJwaLy"
      }
    },
    {
      "cell_type": "markdown",
      "source": [
        "### KNN classification"
      ],
      "metadata": {
        "id": "bpYJtns8weAl"
      }
    },
    {
      "cell_type": "markdown",
      "source": [
        "In this exercise you'll explore a subset of the [Large Movie Review Dataset](https://ai.stanford.edu/~amaas/data/sentiment/). The variables `X_train`, `X_test`, `y_train`, and `y_test` are already loaded into the environment. The `X` variables contain features based on the words in the movie reviews, and the `y` variables contain labels for whether the review sentiment is positive (+1) or negative (-1).\n",
        "\n",
        "This course touches on a lot of concepts you may have forgotten, so if you ever need a quick refresher, download the [scikit-learn Cheat Sheet](https://www.datacamp.com/cheat-sheet/scikit-learn-cheat-sheet-python-machine-learning) and keep it handy!\n",
        "\n",
        "> Instructions\n",
        "* Create a KNN model with default hyperparameters.\n",
        "* Fit the model.\n",
        "* Print out the prediction for the test example 0."
      ],
      "metadata": {
        "id": "P004UG7XzNrC"
      }
    },
    {
      "cell_type": "code",
      "execution_count": null,
      "metadata": {
        "id": "wvugYHfmwWFi"
      },
      "outputs": [],
      "source": [
        "from sklearn.neighbors import KNeighborsClassifier\n",
        "\n",
        "# Create and fit the model\n",
        "knn = KNeighborsClassifier()\n",
        "knn.fit(X_train, y_train)\n",
        "\n",
        "# Predict on the test features, print the results\n",
        "pred = knn.predict(X_test[0])\n",
        "print(\"Prediction for test example 0:\", pred)"
      ]
    },
    {
      "cell_type": "markdown",
      "source": [
        "### Running LogisticRegression and SVC"
      ],
      "metadata": {
        "id": "va-lIgsX1ZX0"
      }
    },
    {
      "cell_type": "markdown",
      "source": [
        "In this exercise, you'll apply logistic regression and a support vector machine to classify images of handwritten digits.\n",
        "\n",
        "> Instructions\n",
        "* Apply logistic regression and SVM (using `SVC()`) to the handwritten digits data set using the provided train/validation split.\n",
        "* For each classifier, print out the training and validation accuracy."
      ],
      "metadata": {
        "id": "sOXBvloF2aAi"
      }
    },
    {
      "cell_type": "code",
      "source": [
        "from sklearn import datasets\n",
        "digits = datasets.load_digits()\n",
        "X_train, X_test, y_train, y_test = train_test_split(digits.data, digits.target)\n",
        "\n",
        "# Apply logistic regression and print scores\n",
        "lr = LogisticRegression()\n",
        "lr.fit(X_train, y_train)\n",
        "print(lr.score(X_train, y_train))\n",
        "print(lr.score(X_test, y_test))\n",
        "\n",
        "# Apply SVM and print scores\n",
        "svm = SVC()\n",
        "svm.fit(X_train, y_train)\n",
        "print(svm.score(X_train, y_train))\n",
        "print(svm.score(X_test, y_test))"
      ],
      "metadata": {
        "id": "b9BmM7r62glG"
      },
      "execution_count": null,
      "outputs": []
    },
    {
      "cell_type": "markdown",
      "source": [
        "### Sentiment analysis for movie reviews"
      ],
      "metadata": {
        "id": "VTjM4OyB3kIi"
      }
    },
    {
      "cell_type": "markdown",
      "source": [
        "In this exercise you'll explore the probabilities outputted by logistic regression on a subset of the [Large Movie Review Dataset](https://ai.stanford.edu/~amaas/data/sentiment/).\n",
        "\n",
        "The variables `X` and `y` are already loaded into the environment. `X` contains features based on the number of times words appear in the movie reviews, and `y` contains labels for whether the review sentiment is positive (+1) or negative (-1).\n",
        "\n",
        "> Instructions\n",
        "* Train a logistic regression model on the movie review data.\n",
        "* Predict the probabilities of negative vs. positive for the two given reviews.\n",
        "* Feel free to write your own reviews and get probabilities for those too!"
      ],
      "metadata": {
        "id": "RuVoGGw53lNz"
      }
    },
    {
      "cell_type": "code",
      "source": [
        "# Instantiate logistic regression and train\n",
        "lr = LogisticRegression()\n",
        "lr.fit(X, y)\n",
        "\n",
        "# Predict sentiment for a glowing review\n",
        "review1 = \"LOVED IT! This movie was amazing. Top 10 this year.\"\n",
        "review1_features = get_features(review1)\n",
        "print(\"Review:\", review1)\n",
        "print(\"Probability of positive review:\", lr.predict_proba(review1_features)[0,1])\n",
        "\n",
        "# Predict sentiment for a poor review\n",
        "review2 = \"Total junk! I'll never watch a film by that director again, no matter how good the reviews.\"\n",
        "review2_features = get_features(review2)\n",
        "print(\"Review:\", review2)\n",
        "print(\"Probability of positive review:\", lr.predict_proba(review2_features)[0,1])"
      ],
      "metadata": {
        "id": "XqYdDCZ33wyL"
      },
      "execution_count": null,
      "outputs": []
    },
    {
      "cell_type": "markdown",
      "source": [
        "### Visualizing decision boundaries"
      ],
      "metadata": {
        "id": "w3NMWQjj4Ugz"
      }
    },
    {
      "cell_type": "markdown",
      "source": [
        "In this exercise, you'll visualize the decision boundaries of various classifier types.\n",
        "\n",
        "A subset of `scikit-learn`'s built-in `wine` dataset is already loaded into `X`, along with binary labels in `y`.\n",
        "\n",
        "> Instructions\n",
        "* Create the following classifier objects with default hyperparameters: `LogisticRegression`, `LinearSVC`, `SVC`,` KNeighborsClassifier`.\n",
        "* Fit each of the classifiers on the provided data using a `for` loop.\n",
        "* Call the `plot_4_classifers()` function (similar to the code [here](https://scikit-learn.org/stable/auto_examples/svm/plot_iris_svc.html)), passing in `X`, `y`, and a list containing the four classifiers."
      ],
      "metadata": {
        "id": "xRCnSOwL5CYz"
      }
    },
    {
      "cell_type": "code",
      "source": [
        "from sklearn.linear_model import LogisticRegression\n",
        "from sklearn.svm import SVC, LinearSVC\n",
        "from sklearn.neighbors import KNeighborsClassifier\n",
        "\n",
        "# Define the classifiers\n",
        "classifiers = [LogisticRegression(), LinearSVC(), SVC(), KNeighborsClassifier()]\n",
        "\n",
        "# Fit the classifiers\n",
        "for c in classifiers:\n",
        "    c.fit(X, y)\n",
        "\n",
        "# Plot the classifiers\n",
        "plot_4_classifiers(X, y, classifiers)\n",
        "plt.show()"
      ],
      "metadata": {
        "id": "BfqvDlPW5aTS"
      },
      "execution_count": null,
      "outputs": []
    },
    {
      "cell_type": "markdown",
      "source": [
        "# 2. Loss functions"
      ],
      "metadata": {
        "id": "trcm-WAh6RcL"
      }
    },
    {
      "cell_type": "markdown",
      "source": [
        "### Changing the model coefficients"
      ],
      "metadata": {
        "id": "ZMYeKQ006S8R"
      }
    },
    {
      "cell_type": "markdown",
      "source": [
        "When you call `fit` with scikit-learn, the logistic regression coefficients are automatically learned from your dataset. In this exercise you will explore how the decision boundary is represented by the coefficients. To do so, you will change the coefficients manually (instead of with `fit`), and visualize the resulting classifiers.\n",
        "\n",
        "A 2D dataset is already loaded into the environment as `X` and `y`, along with a linear classifier object `model`.\n",
        "\n",
        "> Instructions\n",
        "* Set the two coefficients and the intercept to various values and observe the resulting decision boundaries.\n",
        "* Try to build up a sense of how the coefficients relate to the decision boundary.\n",
        "* Set the coefficients and intercept such that the model makes no errors on the given training data."
      ],
      "metadata": {
        "id": "4jDDAxu_7maT"
      }
    },
    {
      "cell_type": "code",
      "source": [
        "# Set the coefficients\n",
        "model.coef_ = np.array([[-1,1]])\n",
        "model.intercept_ = np.array([-3])\n",
        "\n",
        "# Plot the data and decision boundary\n",
        "plot_classifier(X,y,model)\n",
        "\n",
        "# Print the number of errors\n",
        "num_err = np.sum(y != model.predict(X))\n",
        "print(\"Number of errors:\", num_err)"
      ],
      "metadata": {
        "id": "L3rj2aC77zom"
      },
      "execution_count": null,
      "outputs": []
    },
    {
      "cell_type": "markdown",
      "source": [
        "### Minimizing a loss function"
      ],
      "metadata": {
        "id": "p0_tXdKH9un8"
      }
    },
    {
      "cell_type": "markdown",
      "source": [
        "In this exercise you'll implement linear regression \"from scratch\" using `scipy.optimize.minimize`.\n",
        "\n",
        "We'll train a model on the Boston housing price data set, which is already loaded into the variables `X` and `y`. For simplicity, we won't include an intercept in our regression model.\n",
        "\n",
        "> Instructions\n",
        "* Fill in the loss function for least squares linear regression.\n",
        "* Print out the coefficients from fitting sklearn's `LinearRegression`."
      ],
      "metadata": {
        "id": "NTRLX4lY9vw2"
      }
    },
    {
      "cell_type": "code",
      "source": [
        "# The squared error, summed over training examples\n",
        "def my_loss(w):\n",
        "    s = 0\n",
        "    for i in range(y.size):\n",
        "        # Get the true and predicted target values for example 'i'\n",
        "        y_i_true = y[i]\n",
        "        y_i_pred = w@X[i]\n",
        "        s = s + (y_i_true-y_i_pred)**2\n",
        "    return s\n",
        "\n",
        "# Returns the w that makes my_loss(w) smallest\n",
        "w_fit = minimize(my_loss, X[0]).x\n",
        "print(w_fit)\n",
        "\n",
        "# Compare with scikit-learn's LinearRegression coefficients\n",
        "lr = LinearRegression(fit_intercept=False).fit(X,y)\n",
        "print(lr.coef_)"
      ],
      "metadata": {
        "id": "8pMfnvgA93_t"
      },
      "execution_count": null,
      "outputs": []
    },
    {
      "cell_type": "markdown",
      "source": [
        "### Comparing the logistic and hinge losses"
      ],
      "metadata": {
        "id": "JK4ZmlN1-WLt"
      }
    },
    {
      "cell_type": "markdown",
      "source": [
        "In this exercise you'll create a plot of the logistic and hinge losses using their mathematical expressions, which are provided to you.\n",
        "\n",
        "The loss function diagram from the video is shown on the right.\n",
        "\n",
        "> Instructions\n",
        "* Evaluate the `log_loss()` and `hinge_loss()` functions at the grid points so that they are plotted."
      ],
      "metadata": {
        "id": "a6Z4CGCF_iva"
      }
    },
    {
      "cell_type": "code",
      "source": [
        "# Mathematical functions for logistic and hinge losses\n",
        "def log_loss(raw_model_output):\n",
        "   return np.log(1+np.exp(-raw_model_output))\n",
        "def hinge_loss(raw_model_output):\n",
        "   return np.maximum(0,1-raw_model_output)\n",
        "\n",
        "# Create a grid of values and plot\n",
        "grid = np.linspace(-2,2,1000)\n",
        "plt.plot(grid, log_loss(grid), label='logistic')\n",
        "plt.plot(grid, hinge_loss(grid), label='hinge')\n",
        "plt.legend()\n",
        "plt.show()"
      ],
      "metadata": {
        "id": "O2JWWjP9AH1V"
      },
      "execution_count": null,
      "outputs": []
    },
    {
      "cell_type": "markdown",
      "source": [
        "### Implementing logistic regression"
      ],
      "metadata": {
        "id": "TcNhxxEPAN8x"
      }
    },
    {
      "cell_type": "markdown",
      "source": [
        "This is very similar to the earlier exercise where you implemented linear regression \"from scratch\" using `scipy.optimize.minimize`. However, this time we'll minimize the logistic loss and compare with scikit-learn's `LogisticRegression` (we've set `C` to a large value to disable regularization; more on this in Chapter 3!).\n",
        "\n",
        "The `log_loss()` function from the previous exercise is already defined in your environment, and the `sklearn` breast cancer prediction dataset (first 10 features, standardized) is loaded into the variables `X` and `y`.\n",
        "\n",
        "> Instructions\n",
        "* Input the number of training examples into `range()`.\n",
        "* Fill in the loss function for logistic regression.\n",
        "* Compare the coefficients to sklearn's `LogisticRegression`."
      ],
      "metadata": {
        "id": "4kD_cmo_APG7"
      }
    },
    {
      "cell_type": "code",
      "source": [
        "# The logistic loss, summed over training examples\n",
        "def my_loss(w):\n",
        "    s = 0\n",
        "    for i in range(X[:,0].size):\n",
        "        raw_model_output = w@X[i]\n",
        "        s = s + log_loss(raw_model_output * y[i])\n",
        "    return s\n",
        "\n",
        "# Returns the w that makes my_loss(w) smallest\n",
        "w_fit = minimize(my_loss, X[0]).x\n",
        "print(w_fit)\n",
        "\n",
        "# Compare with scikit-learn's LogisticRegression\n",
        "lr = LogisticRegression(fit_intercept=False, C=1000000).fit(X,y)\n",
        "print(lr.coef_)"
      ],
      "metadata": {
        "id": "4yT1EjHBCO9l"
      },
      "execution_count": null,
      "outputs": []
    },
    {
      "cell_type": "markdown",
      "source": [
        "# 3. Logistic regression"
      ],
      "metadata": {
        "id": "-3_C-QR_7uo8"
      }
    },
    {
      "cell_type": "markdown",
      "source": [
        "### Regularized logistic regression"
      ],
      "metadata": {
        "id": "7bpSjvPE7v58"
      }
    },
    {
      "cell_type": "markdown",
      "source": [
        "In Chapter 1, you used logistic regression on the handwritten digits data set. Here, we'll explore the effect of L2 regularization.\n",
        "\n",
        "The handwritten digits dataset is already loaded, split, and stored in the variables `X_train`, `y_train`, `X_valid`, and `y_valid`. The variables `train_errs` and `valid_errs` are already initialized as empty lists.\n",
        "\n",
        "> Instructions\n",
        "* Loop over the different values of `C_value`, creating and fitting a `LogisticRegression` model each time.\n",
        "* Save the error on the training set and the validation set for each model.\n",
        "* Create a plot of the training and testing error as a function of the regularization parameter, `C`.\n",
        "* Looking at the plot, what's the best value of `C`?"
      ],
      "metadata": {
        "id": "C_bsgPJ78r81"
      }
    },
    {
      "cell_type": "code",
      "source": [
        "# Train and validaton errors initialized as empty list\n",
        "train_errs = list()\n",
        "valid_errs = list()\n",
        "\n",
        "# Loop over values of C_value\n",
        "for C_value in [0.001, 0.01, 0.1, 1, 10, 100, 1000]:\n",
        "    # Create LogisticRegression object and fit\n",
        "    lr = LogisticRegression(C=C_value)\n",
        "    lr.fit(X_train, y_train)\n",
        "    \n",
        "    # Evaluate error rates and append to lists\n",
        "    train_errs.append( 1.0 - lr.score(X_train, y_train) )\n",
        "    valid_errs.append( 1.0 - lr.score(X_valid, y_valid) )\n",
        "    \n",
        "# Plot results\n",
        "plt.semilogx(C_values, train_errs, C_values, valid_errs)\n",
        "plt.legend((\"train\", \"validation\"))\n",
        "plt.show()"
      ],
      "metadata": {
        "id": "XprtQQBd89v8"
      },
      "execution_count": null,
      "outputs": []
    },
    {
      "cell_type": "markdown",
      "source": [
        "### Logistic regression and feature selection"
      ],
      "metadata": {
        "id": "6AoNAbk--Chs"
      }
    },
    {
      "cell_type": "markdown",
      "source": [
        "In this exercise we'll perform feature selection on the movie review sentiment data set using L1 regularization. The features and targets are already loaded for you in `X_train` and `y_train`.\n",
        "\n",
        "We'll search for the best value of `C` using scikit-learn's `GridSearchCV()`, which was covered in the prerequisite course.\n",
        "\n",
        "> Instructions\n",
        "* Instantiate a logistic regression object that uses L1 regularization.\n",
        "* Find the value of `C` that minimizes cross-validation error.\n",
        "* Print out the number of selected features for this value of `C`."
      ],
      "metadata": {
        "id": "kpisSdZR-D2T"
      }
    },
    {
      "cell_type": "code",
      "source": [
        "# Specify L1 regularization\n",
        "lr = LogisticRegression(solver='liblinear', penalty='l1')\n",
        "\n",
        "# Instantiate the GridSearchCV object and run the search\n",
        "searcher = GridSearchCV(lr, {'C':[0.001, 0.01, 0.1, 1, 10]})\n",
        "searcher.fit(X_train, y_train)\n",
        "\n",
        "# Report the best parameters\n",
        "print(\"Best CV params\", searcher.best_params_)\n",
        "\n",
        "# Find the number of nonzero coefficients (selected features)\n",
        "best_lr = searcher.best_estimator_\n",
        "coefs = best_lr.coef_\n",
        "print(\"Total number of features:\", coefs.size)\n",
        "print(\"Number of selected features:\", np.count_nonzero(coefs))"
      ],
      "metadata": {
        "id": "Vr0JuiCY-Q21"
      },
      "execution_count": null,
      "outputs": []
    },
    {
      "cell_type": "markdown",
      "source": [
        "### Identifying the most positive and negative words"
      ],
      "metadata": {
        "id": "Mnx8qteI-7gD"
      }
    },
    {
      "cell_type": "markdown",
      "source": [
        "In this exercise we'll try to interpret the coefficients of a logistic regression fit on the movie review sentiment dataset. The model object is already instantiated and fit for you in the variable `lr`.\n",
        "  \n",
        "In addition, the words corresponding to the different features are loaded into the variable `vocab`. For example, since `vocab[100]` is \"think\", that means feature 100 corresponds to the number of times the word \"think\" appeared in that movie review.\n",
        "\n",
        "> Instructions\n",
        "* Find the words corresponding to the 5 largest coefficients.\n",
        "* Find the words corresponding to the 5 smallest coefficients."
      ],
      "metadata": {
        "id": "Vjq30eEq_K7m"
      }
    },
    {
      "cell_type": "code",
      "source": [
        "# Get the indices of the sorted cofficients\n",
        "inds_ascending = np.argsort(lr.coef_.flatten()) \n",
        "inds_descending = inds_ascending[::-1]\n",
        "\n",
        "# Print the most positive words\n",
        "print(\"Most positive words: \", end=\"\")\n",
        "for i in range(5):\n",
        "    print(vocab[inds_descending[i]], end=\", \")\n",
        "print(\"\\n\")\n",
        "\n",
        "# Print most negative words\n",
        "print(\"Most negative words: \", end=\"\")\n",
        "for i in range(5):\n",
        "    print(vocab[inds_ascending[i]], end=\", \")\n",
        "print(\"\\n\")"
      ],
      "metadata": {
        "id": "ApU3h8S3-6yP"
      },
      "execution_count": null,
      "outputs": []
    },
    {
      "cell_type": "markdown",
      "source": [
        "### Regularization and probabilities"
      ],
      "metadata": {
        "id": "5FFH3-BABSt5"
      }
    },
    {
      "cell_type": "markdown",
      "source": [
        "In this exercise, you will observe the effects of changing the regularization strength on the predicted probabilities.\n",
        "\n",
        "A 2D binary classification dataset is already loaded into the environment as `X` and `y`.\n",
        "\n",
        "> Instructions\n",
        "* Compute the maximum predicted probability.\n",
        "* Run the provided code and take a look at the plot.\n",
        "\n",
        "> * Create a model with `C=0.1` and examine how the plot and probabilities change."
      ],
      "metadata": {
        "id": "2mCjUY1jBUuh"
      }
    },
    {
      "cell_type": "code",
      "source": [
        "# Set the regularization strength\n",
        "model = LogisticRegression(C=1)\n",
        "\n",
        "# Fit and plot\n",
        "model.fit(X,y)\n",
        "plot_classifier(X,y,model,proba=True)\n",
        "\n",
        "# Predict probabilities on training points\n",
        "prob = model.predict_proba(X)\n",
        "print(\"Maximum predicted probability\", prob.max())\n",
        "\n",
        "answer:0.99731"
      ],
      "metadata": {
        "id": "JMwg_UBLC9Kp"
      },
      "execution_count": null,
      "outputs": []
    },
    {
      "cell_type": "code",
      "source": [
        "# Set the regularization strength\n",
        "model = LogisticRegression(C=0.1)\n",
        "\n",
        "# Fit and plot\n",
        "model.fit(X,y)\n",
        "plot_classifier(X,y,model,proba=True)\n",
        "\n",
        "# Predict probabilities on training points\n",
        "prob = model.predict_proba(X)\n",
        "print(\"Maximum predicted probability\", np.max(prob))\n",
        "\n",
        "answer:0.93521"
      ],
      "metadata": {
        "id": "yzAz3HZPDCDl"
      },
      "execution_count": null,
      "outputs": []
    },
    {
      "cell_type": "markdown",
      "source": [
        "### Visualizing easy and difficult examples"
      ],
      "metadata": {
        "id": "pC7aBVT9Dahh"
      }
    },
    {
      "cell_type": "markdown",
      "source": [
        "In this exercise, you'll visualize the examples that the logistic regression model is most and least confident about by looking at the largest and smallest predicted probabilities.\n",
        "\n",
        "The handwritten digits dataset is already loaded into the variables `X` and `y`. The `show_digit` function takes in an integer index and plots the corresponding image, with some extra information displayed above the image.\n",
        "\n",
        "> Instructions\n",
        "* Fill in the first blank with the *index* of the digit that the model is most confident about.\n",
        "* Fill in the second blank with the *index* of the digit that the model is least confident about.\n",
        "* Observe the images: do you agree that the first one is less ambiguous than the second?"
      ],
      "metadata": {
        "id": "-VD4zpC_Dbe_"
      }
    },
    {
      "cell_type": "code",
      "source": [
        "lr = LogisticRegression()\n",
        "lr.fit(X,y)\n",
        "\n",
        "# Get predicted probabilities\n",
        "proba = lr.predict_proba(X)\n",
        "\n",
        "# Sort the example indices by their maximum probability\n",
        "proba_inds = np.argsort(np.max(proba,axis=1))\n",
        "\n",
        "# Show the most confident (least ambiguous) digit\n",
        "show_digit(proba_inds[-1], lr)\n",
        "\n",
        "# Show the least confident (most ambiguous) digit\n",
        "show_digit(proba_inds[0], lr)"
      ],
      "metadata": {
        "id": "rAQL2blUDkxI"
      },
      "execution_count": null,
      "outputs": []
    },
    {
      "cell_type": "markdown",
      "source": [
        "### Fitting multi-class logistic regression"
      ],
      "metadata": {
        "id": "c17PRqBWEoyD"
      }
    },
    {
      "cell_type": "markdown",
      "source": [
        "In this exercise, you'll fit the two types of multi-class logistic regression, one-vs-rest and softmax/multinomial, on the handwritten digits data set and compare the results. The handwritten digits dataset is already loaded and split into `X_train`, `y_train`, `X_test`, and `y_test`.\n",
        "\n",
        "> Instructions\n",
        "* Fit a one-vs-rest logistic regression classifier by setting the `multi_class` parameter and report the results.\n",
        "* Fit a multinomial logistic regression classifier by setting the `multi_class` parameter and report the results."
      ],
      "metadata": {
        "id": "dkRILw9YFz5J"
      }
    },
    {
      "cell_type": "code",
      "source": [
        "# Fit one-vs-rest logistic regression classifier\n",
        "lr_ovr = LogisticRegression(multi_class='ovr')\n",
        "lr_ovr.fit(X_train, y_train)\n",
        "\n",
        "print(\"OVR training accuracy:\", lr_ovr.score(X_train, y_train))\n",
        "print(\"OVR test accuracy    :\", lr_ovr.score(X_test, y_test))\n",
        "\n",
        "# Fit softmax classifier\n",
        "lr_mn = LogisticRegression(multi_class='multinomial')\n",
        "lr_mn.fit(X_train, y_train)\n",
        "\n",
        "print(\"Softmax training accuracy:\", lr_mn.score(X_train, y_train))\n",
        "print(\"Softmax test accuracy    :\", lr_mn.score(X_test, y_test))"
      ],
      "metadata": {
        "id": "QmbgOUORF9rM"
      },
      "execution_count": null,
      "outputs": []
    },
    {
      "cell_type": "markdown",
      "source": [
        "### Visualizing multi-class logistic regression"
      ],
      "metadata": {
        "id": "RXtCiq9DGhB6"
      }
    },
    {
      "cell_type": "markdown",
      "source": [
        "In this exercise we'll continue with the two types of multi-class logistic regression, but on a toy 2D data set specifically designed to break the one-vs-rest scheme.\n",
        "\n",
        "The data set is loaded into `X_train` and `y_train`. The two logistic regression objects,`lr_mn` and `lr_ovr`, are already instantiated (with `C=100`), fit, and plotted.\n",
        "\n",
        "Notice that `lr_ovr` never predicts the dark blue class… yikes! Let's explore why this happens by plotting one of the binary classifiers that it's using behind the scenes.\n",
        "\n",
        "> Instructions\n",
        "* Create a new logistic regression object (also with `C=100`) to be used for binary classification.\n",
        "* Visualize this binary classifier with `plot_classifier`… does it look reasonable?"
      ],
      "metadata": {
        "id": "PM1E0QNUGjyU"
      }
    },
    {
      "cell_type": "code",
      "source": [
        "# Print training accuracies\n",
        "print(\"Softmax     training accuracy:\", lr_mn.score(X_train, y_train))\n",
        "print(\"One-vs-rest training accuracy:\", lr_ovr.score(X_train, y_train))\n",
        "\n",
        "# Create the binary classifier (class 1 vs. rest)\n",
        "lr_class_1 = LogisticRegression(C=100)\n",
        "lr_class_1.fit(X_train, y_train==1)\n",
        "\n",
        "# Plot the binary classifier (class 1 vs. rest)\n",
        "plot_classifier(X_train, y_train==1, lr_class_1)"
      ],
      "metadata": {
        "id": "qq1ucYoAGu96"
      },
      "execution_count": null,
      "outputs": []
    },
    {
      "cell_type": "markdown",
      "source": [
        "### One-vs-rest SVM"
      ],
      "metadata": {
        "id": "VRvEbO1dH83E"
      }
    },
    {
      "cell_type": "markdown",
      "source": [
        "As motivation for the next and final chapter on support vector machines, we'll repeat the previous exercise with a non-linear SVM. Once again, the data is loaded into `X_train`, `y_train`, `X_test`, and `y_test` .\n",
        "\n",
        "Instead of using `LinearSVC`, we'll now use scikit-learn's `SVC` object, which is a non-linear \"kernel\" SVM (much more on what this means in Chapter 4!). Again, your task is to create a plot of the binary classifier for class 1 vs. rest.\n",
        "\n",
        "> Instructions\n",
        "* Fit an `SVC` called `svm_class_1` to predict class 1 vs. other classes.\n",
        "* Plot this classifier."
      ],
      "metadata": {
        "id": "6FUTf5P-H96k"
      }
    },
    {
      "cell_type": "code",
      "source": [
        "# We'll use SVC instead of LinearSVC from now on\n",
        "from sklearn.svm import SVC\n",
        "\n",
        "# Create/plot the binary classifier (class 1 vs. rest)\n",
        "svm_class_1 = SVC()\n",
        "svm_class_1.fit(X_train, y_train==1)\n",
        "plot_classifier(X_train, y_train==1, svm_class_1)"
      ],
      "metadata": {
        "id": "ZZZfwOyJIkmO"
      },
      "execution_count": null,
      "outputs": []
    },
    {
      "cell_type": "markdown",
      "source": [
        "# 4. Support Vector Machines"
      ],
      "metadata": {
        "id": "xps576bOIvnK"
      }
    },
    {
      "cell_type": "markdown",
      "source": [
        "### Effect of removing examples"
      ],
      "metadata": {
        "id": "cil-Nr3XIzU8"
      }
    },
    {
      "cell_type": "markdown",
      "source": [
        "Support vectors are defined as training examples that influence the decision boundary. In this exercise, you'll observe this behavior by removing non support vectors from the training set.\n",
        "\n",
        "The wine quality dataset is already loaded into `X` and `y` (first two features only). (Note: we specify `lims` in `plot_classifier()` so that the two plots are forced to use the same axis limits and can be compared directly.)\n",
        "\n",
        "> Instructions\n",
        "* Train a linear SVM on the whole data set.\n",
        "* Create a new data set containing only the support vectors.\n",
        "* Train a new linear SVM on the smaller data set."
      ],
      "metadata": {
        "id": "u0pjW_6kKR08"
      }
    },
    {
      "cell_type": "code",
      "source": [
        "# Train a linear SVM\n",
        "svm = SVC(kernel=\"linear\")\n",
        "svm.fit(X, y)\n",
        "plot_classifier(X, y, svm, lims=(11,15,0,6))\n",
        "\n",
        "# Make a new data set keeping only the support vectors\n",
        "print(\"Number of original examples\", len(X))\n",
        "print(\"Number of support vectors\", len(svm.support_))\n",
        "X_small = X[svm.support_]\n",
        "y_small = y[svm.support_]\n",
        "\n",
        "# Train a new SVM using only the support vectors\n",
        "svm_small = SVC(kernel=\"linear\")\n",
        "svm_small.fit(X_small, y_small)\n",
        "plot_classifier(X_small, y_small, svm_small, lims=(11,15,0,6))"
      ],
      "metadata": {
        "id": "SYLgIjheKbYY"
      },
      "execution_count": null,
      "outputs": []
    },
    {
      "cell_type": "markdown",
      "source": [
        "### GridSearchCV warm-up"
      ],
      "metadata": {
        "id": "oYgB24uaLCWo"
      }
    },
    {
      "cell_type": "markdown",
      "source": [
        "In the video we saw that increasing the RBF kernel hyperparameter `gamma` increases training accuracy. In this exercise we'll search for the `gamma` that maximizes cross-validation accuracy using scikit-learn's `GridSearchCV.` A binary version of the handwritten digits dataset, in which you're just trying to predict whether or not an image is a \"2\", is already loaded into the variables `X` and `y`.\n",
        "\n",
        "> Instructions\n",
        "* Create a `GridSearchCV` object.\n",
        "* Call the `fit()` method to select the best value of `gamma` based on cross-validation accuracy."
      ],
      "metadata": {
        "id": "Vp67-vX1MG7b"
      }
    },
    {
      "cell_type": "code",
      "source": [
        "# Instantiate an RBF SVM\n",
        "svm = SVC()\n",
        "\n",
        "# Instantiate the GridSearchCV object and run the search\n",
        "parameters = {'gamma':[0.00001, 0.0001, 0.001, 0.01, 0.1]}\n",
        "searcher = GridSearchCV(svm, param_grid=parameters)\n",
        "searcher.fit(X, y)\n",
        "\n",
        "# Report the best parameters\n",
        "print(\"Best CV params\", searcher.best_params_)"
      ],
      "metadata": {
        "id": "9KG7fscrMZ1i"
      },
      "execution_count": null,
      "outputs": []
    },
    {
      "cell_type": "markdown",
      "source": [
        "### Jointly tuning gamma and C with GridSearchCV"
      ],
      "metadata": {
        "id": "BHT0CoKWMrMu"
      }
    },
    {
      "cell_type": "markdown",
      "source": [
        "In the previous exercise the best value of `gamma` was 0.001 using the default value of `C`, which is 1. In this exercise you'll search for the best combination of `C` and `gamma` using `GridSearchCV`.\n",
        "\n",
        "As in the previous exercise, the 2-vs-not-2 digits dataset is already loaded, but this time it's split into the variables `X_train`, `y_train`, `X_test`, and `y_test`. Even though cross-validation already splits the training set into parts, it's often a good idea to hold out a separate test set to make sure the cross-validation results are sensible.\n",
        "\n",
        "> Instructions\n",
        "* Run `GridSearchCV` to find the best hyperparameters using the training set.\n",
        "* Print the best values of the parameters.\n",
        "* Print out the accuracy on the test set, which was not used during the cross-validation procedure."
      ],
      "metadata": {
        "id": "Xscl1LXvMulI"
      }
    },
    {
      "cell_type": "code",
      "source": [
        "# Instantiate an RBF SVM\n",
        "svm = SVC()\n",
        "\n",
        "# Instantiate the GridSearchCV object and run the search\n",
        "parameters = {'C':[0.1, 1, 10], 'gamma':[0.00001, 0.0001, 0.001, 0.01, 0.1]}\n",
        "searcher = GridSearchCV(svm, param_grid=parameters)\n",
        "searcher.fit(X_train, y_train)\n",
        "\n",
        "# Report the best parameters and the corresponding score\n",
        "print(\"Best CV params\", searcher.best_params_)\n",
        "print(\"Best CV accuracy\", searcher.best_score_)\n",
        "\n",
        "# Report the test accuracy using these best parameters\n",
        "print(\"Test accuracy of best grid search hypers:\", searcher.score(X_test, y_test))"
      ],
      "metadata": {
        "id": "m8ET9DzdNA9K"
      },
      "execution_count": null,
      "outputs": []
    },
    {
      "cell_type": "markdown",
      "source": [
        "### Using SGDClassifier"
      ],
      "metadata": {
        "id": "0v5K47VFOeSl"
      }
    },
    {
      "cell_type": "markdown",
      "source": [
        "In this final coding exercise, you'll do a hyperparameter search over the regularization strength and the loss (logistic regression vs. linear SVM) using `SGDClassifier()`.\n",
        "\n",
        "> Instructions\n",
        "* Instantiate an `SGDClassifier` instance with `random_state=0`.\n",
        "* Search over the regularization strength and the `hinge` vs. `log_loss` losses."
      ],
      "metadata": {
        "id": "lRMYVlobOfhi"
      }
    },
    {
      "cell_type": "code",
      "source": [
        "# We set random_state=0 for reproducibility \n",
        "linear_classifier = SGDClassifier(random_state=0)\n",
        "\n",
        "# Instantiate the GridSearchCV object and run the search\n",
        "parameters = {'alpha':[0.00001, 0.0001, 0.001, 0.01, 0.1, 1], \n",
        "             'loss':['hinge', 'log_loss']}\n",
        "searcher = GridSearchCV(linear_classifier, parameters, cv=10)\n",
        "searcher.fit(X_train, y_train)\n",
        "\n",
        "# Report the best parameters and the corresponding score\n",
        "print(\"Best CV params\", searcher.best_params_)\n",
        "print(\"Best CV accuracy\", searcher.best_score_)\n",
        "print(\"Test accuracy of best grid search hypers:\", searcher.score(X_test, y_test))"
      ],
      "metadata": {
        "id": "rJniIc1VOqXj"
      },
      "execution_count": null,
      "outputs": []
    }
  ]
}